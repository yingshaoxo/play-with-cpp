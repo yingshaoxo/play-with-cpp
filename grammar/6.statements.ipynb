{
 "cells": [
  {
   "cell_type": "markdown",
   "metadata": {},
   "source": [
    "## Functions"
   ]
  },
  {
   "cell_type": "markdown",
   "metadata": {},
   "source": [
    "### general"
   ]
  },
  {
   "cell_type": "code",
   "execution_count": 1,
   "metadata": {},
   "outputs": [],
   "source": [
    "void change(int& x) {\n",
    "    x = x + 1;\n",
    "}"
   ]
  },
  {
   "cell_type": "code",
   "execution_count": 2,
   "metadata": {},
   "outputs": [
    {
     "data": {
      "text/plain": [
       "1"
      ]
     },
     "execution_count": 2,
     "metadata": {},
     "output_type": "execute_result"
    }
   ],
   "source": [
    "int a = 0;\n",
    "change(a);\n",
    "a"
   ]
  },
  {
   "cell_type": "markdown",
   "metadata": {},
   "source": [
    "### not in general"
   ]
  },
  {
   "cell_type": "code",
   "execution_count": 3,
   "metadata": {},
   "outputs": [],
   "source": [
    "struct CountDown {\n",
    "    CountDown(int num): number{num} {}\n",
    "    void next();\n",
    "    int number;\n",
    "}"
   ]
  },
  {
   "cell_type": "code",
   "execution_count": 4,
   "metadata": {},
   "outputs": [],
   "source": [
    "void CountDown::next() {\n",
    "    this->number = this->number - 1;\n",
    "}"
   ]
  },
  {
   "cell_type": "code",
   "execution_count": 5,
   "metadata": {},
   "outputs": [
    {
     "data": {
      "text/plain": [
       "4"
      ]
     },
     "execution_count": 5,
     "metadata": {},
     "output_type": "execute_result"
    }
   ],
   "source": [
    "CountDown counter = CountDown(5);\n",
    "counter.next();\n",
    "counter.number"
   ]
  },
  {
   "cell_type": "code",
   "execution_count": 6,
   "metadata": {},
   "outputs": [
    {
     "data": {
      "text/plain": [
       "3"
      ]
     },
     "execution_count": 6,
     "metadata": {},
     "output_type": "execute_result"
    }
   ],
   "source": [
    "counter.next();\n",
    "counter.number"
   ]
  },
  {
   "cell_type": "markdown",
   "metadata": {},
   "source": [
    "## Namespaces"
   ]
  },
  {
   "cell_type": "code",
   "execution_count": 7,
   "metadata": {},
   "outputs": [],
   "source": [
    "#include <cstdio>\n",
    "\n",
    "namespace A_Space::Sub_Space {\n",
    "    enum class Color {\n",
    "        red=1,\n",
    "        green=2,\n",
    "        blue=3\n",
    "    };\n",
    "    struct A_Class {\n",
    "        int number = 1998;\n",
    "    };\n",
    "}\n",
    "\n",
    "namespace B_Space {\n",
    "    struct A_Class {\n",
    "        int number = 1998;\n",
    "    };\n",
    "}"
   ]
  },
  {
   "cell_type": "code",
   "execution_count": 8,
   "metadata": {},
   "outputs": [
    {
     "name": "stdout",
     "output_type": "stream",
     "text": [
      "we just used a color from a namespace."
     ]
    }
   ],
   "source": [
    "auto a_color = A_Space::Sub_Space::Color::red;\n",
    "\n",
    "if (a_color == A_Space::Sub_Space::Color::red) {\n",
    "    printf(\"we just used a color from a namespace.\");\n",
    "}"
   ]
  },
  {
   "cell_type": "code",
   "execution_count": 9,
   "metadata": {},
   "outputs": [
    {
     "name": "stdout",
     "output_type": "stream",
     "text": [
      "we just did an comparation with two variables that comes from different namespaces."
     ]
    }
   ],
   "source": [
    "auto a = A_Space::Sub_Space::A_Class().number;\n",
    "auto b = B_Space::A_Class().number;\n",
    "\n",
    "if (a == b) {\n",
    "    printf(\"we just did an comparation with two variables that comes from different namespaces.\");\n",
    "}"
   ]
  },
  {
   "cell_type": "markdown",
   "metadata": {},
   "source": [
    "### using"
   ]
  },
  {
   "cell_type": "code",
   "execution_count": 10,
   "metadata": {},
   "outputs": [
    {
     "name": "stderr",
     "output_type": "stream",
     "text": [
      "input_line_23:3:20: warning: self-comparison always evaluates to true [-Wtautological-compare]\n",
      "    if (Color::red == Color::red) {\n",
      "                   ^\n"
     ]
    }
   ],
   "source": [
    "#include <iostream>\n",
    "\n",
    "void a_function() {\n",
    "    using A_Space::Sub_Space::Color;\n",
    "    if (Color::red == Color::red) {\n",
    "        std::cout << \"hi\";\n",
    "    }\n",
    "}"
   ]
  },
  {
   "cell_type": "code",
   "execution_count": 11,
   "metadata": {},
   "outputs": [
    {
     "name": "stdout",
     "output_type": "stream",
     "text": [
      "hi"
     ]
    }
   ],
   "source": [
    "a_function();"
   ]
  },
  {
   "cell_type": "code",
   "execution_count": 12,
   "metadata": {},
   "outputs": [],
   "source": [
    "#include <iostream>\n",
    "\n",
    "namespace C_Space {\n",
    "    using namespace std;\n",
    "    \n",
    "    struct C_Class {\n",
    "        int number = 1998;\n",
    "        void print() {\n",
    "            cout << \"hi\";\n",
    "        }\n",
    "    };\n",
    "}"
   ]
  },
  {
   "cell_type": "code",
   "execution_count": 15,
   "metadata": {},
   "outputs": [],
   "source": [
    "void another_function() {\n",
    "    using theClass = C_Space::C_Class;\n",
    "    theClass().print();\n",
    "}"
   ]
  },
  {
   "cell_type": "code",
   "execution_count": 16,
   "metadata": {},
   "outputs": [
    {
     "name": "stdout",
     "output_type": "stream",
     "text": [
      "hi"
     ]
    }
   ],
   "source": [
    "another_function()"
   ]
  },
  {
   "cell_type": "markdown",
   "metadata": {},
   "source": [
    "### Structured Bindings"
   ]
  },
  {
   "cell_type": "code",
   "execution_count": 16,
   "metadata": {},
   "outputs": [],
   "source": [
    "//struct Dark {\n",
    "//    int brightness;\n",
    "//    const char* description;\n",
    "//}"
   ]
  },
  {
   "cell_type": "code",
   "execution_count": 17,
   "metadata": {},
   "outputs": [],
   "source": [
    "//const static char text[]{\"I'm dark inside.\"};"
   ]
  },
  {
   "cell_type": "code",
   "execution_count": 18,
   "metadata": {},
   "outputs": [],
   "source": [
    "//const auto [light, string] = Dark{0, text};"
   ]
  },
  {
   "cell_type": "code",
   "execution_count": 19,
   "metadata": {},
   "outputs": [
    {
     "name": "stderr",
     "output_type": "stream",
     "text": [
      "input_line_27:2:16: error: use of undeclared identifier 'light'\n",
      " printf(\"%zd\", light);\n",
      "               ^\n"
     ]
    },
    {
     "ename": "Interpreter Error",
     "evalue": "",
     "output_type": "error",
     "traceback": [
      "Interpreter Error: "
     ]
    }
   ],
   "source": [
    "//printf(\"%zd\", light);"
   ]
  },
  {
   "cell_type": "code",
   "execution_count": 20,
   "metadata": {},
   "outputs": [
    {
     "name": "stderr",
     "output_type": "stream",
     "text": [
      "input_line_28:2:2: error: use of undeclared identifier 'string'; did you mean 'stdin'?\n",
      " string\n",
      " ^~~~~~\n",
      " stdin\n",
      "/home/yingshaoxo/miniconda3/envs/cling/x86_64-conda-linux-gnu/sysroot/usr/include/stdio.h:165:25: note: 'stdin' declared here\n",
      "extern struct _IO_FILE *stdin;          /* Standard input stream.  */\n",
      "                        ^\n"
     ]
    },
    {
     "ename": "Interpreter Error",
     "evalue": "",
     "output_type": "error",
     "traceback": [
      "Interpreter Error: "
     ]
    }
   ],
   "source": [
    "//string"
   ]
  },
  {
   "cell_type": "code",
   "execution_count": null,
   "metadata": {},
   "outputs": [],
   "source": []
  }
 ],
 "metadata": {
  "kernelspec": {
   "display_name": "C++17",
   "language": "C++17",
   "name": "xcpp17"
  },
  "language_info": {
   "codemirror_mode": "text/x-c++src",
   "file_extension": ".cpp",
   "mimetype": "text/x-c++src",
   "name": "c++",
   "version": "17"
  }
 },
 "nbformat": 4,
 "nbformat_minor": 4
}
