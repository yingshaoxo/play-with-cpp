{
 "cells": [
  {
   "cell_type": "markdown",
   "metadata": {},
   "source": [
    "https://leetcode.com/problems/distribute-candies\n",
    "\n",
    "\n",
    "Runtime: 304 ms, faster than 92.06% of C++ online submissions for Distribute Candies.\n",
    "Memory Usage: 120.2 MB, less than 29.91% of C++ online submissions for Distribute Candies.\n",
    "\n",
    "\n",
    "```cpp\n",
    "#include <vector>\n",
    "#include <algorithm>\n",
    "#include <set>\n",
    "\n",
    "using namespace std;\n",
    "\n",
    "class Solution {\n",
    "public:\n",
    "    int distributeCandies(vector<int>& candyType) {\n",
    "        set<int> set1;\n",
    "        for (int i=0; i<candyType.size(); i++) {\n",
    "            set1.insert(candyType[i]);\n",
    "        }\n",
    "        int typeNums = set1.size();\n",
    "        int eatableNums = candyType.size()/2;\n",
    "        if (typeNums <= eatableNums) {\n",
    "            return typeNums;\n",
    "        } else {\n",
    "            return eatableNums;\n",
    "        }\n",
    "    }\n",
    "};\n",
    "```"
   ]
  },
  {
   "cell_type": "code",
   "execution_count": null,
   "metadata": {},
   "outputs": [],
   "source": []
  }
 ],
 "metadata": {
  "kernelspec": {
   "display_name": "C++17",
   "language": "C++17",
   "name": "xcpp17"
  },
  "language_info": {
   "codemirror_mode": "text/x-c++src",
   "file_extension": ".cpp",
   "mimetype": "text/x-c++src",
   "name": "c++",
   "version": "17"
  }
 },
 "nbformat": 4,
 "nbformat_minor": 4
}
