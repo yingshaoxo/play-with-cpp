{
 "cells": [
  {
   "cell_type": "markdown",
   "metadata": {},
   "source": [
    "https://leetcode.com/problems/min-stack\n",
    "\n",
    "\n",
    "Runtime: 896 ms, faster than 5.06% of C++ online submissions for Min Stack.\n",
    "Memory Usage: 16.4 MB, less than 77.37% of C++ online submissions for Min Stack.\n",
    "\n",
    "\n",
    "\n",
    "```cpp\n",
    "#include <iostream>\n",
    "#include <bits/stdc++.h>\n",
    "\n",
    "using namespace std;\n",
    "\n",
    "class MinStack {\n",
    "private:\n",
    "    vector<int> stack;\n",
    "public:\n",
    "    /** initialize your data structure here. */\n",
    "    MinStack() {\n",
    "        stack = {};\n",
    "    }\n",
    "    \n",
    "    void push(int x) {\n",
    "        stack.push_back(x);\n",
    "    }\n",
    "    \n",
    "    void pop() {\n",
    "        stack.pop_back();\n",
    "    }\n",
    "    \n",
    "    int top() {\n",
    "        return stack[stack.size()-1];\n",
    "    }\n",
    "    \n",
    "    int getMin() {\n",
    "        return *min_element(stack.begin(), stack.end());\n",
    "    }\n",
    "};\n",
    "```"
   ]
  },
  {
   "cell_type": "code",
   "execution_count": null,
   "metadata": {},
   "outputs": [],
   "source": []
  }
 ],
 "metadata": {
  "kernelspec": {
   "display_name": "C++17",
   "language": "C++17",
   "name": "xcpp17"
  },
  "language_info": {
   "codemirror_mode": "text/x-c++src",
   "file_extension": ".cpp",
   "mimetype": "text/x-c++src",
   "name": "c++",
   "version": "17"
  }
 },
 "nbformat": 4,
 "nbformat_minor": 4
}
