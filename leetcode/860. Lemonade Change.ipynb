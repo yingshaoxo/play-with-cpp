{
 "cells": [
  {
   "cell_type": "markdown",
   "id": "metallic-andrew",
   "metadata": {},
   "source": [
    "https://leetcode.com/problems/lemonade-change\n",
    "\n",
    "\n",
    "Runtime: 16 ms, faster than 75.86% of C++ online submissions for Lemonade Change.\n",
    "Memory Usage: 17.1 MB, less than 65.04% of C++ online submissions for Lemonade Change.\n",
    "\n",
    "\n",
    "```cpp\n",
    "#include <vector>\n",
    "#include <algorithm>\n",
    "#include <iostream>\n",
    "#include <set>\n",
    "\n",
    "using namespace std;\n",
    "\n",
    "class Solution {\n",
    "public:\n",
    "    bool lemonadeChange(vector<int>& bills) {\n",
    "        //2:37\n",
    "        int change5_i_have = 0;\n",
    "        int change10_i_have = 0;\n",
    "        for (auto bill : bills) {\n",
    "            if (bill == 5) {\n",
    "                change5_i_have += 1;\n",
    "            } else {\n",
    "                int money_we_return = (bill / 5) - 1;\n",
    "                if (money_we_return == 3) {\n",
    "                if ((change10_i_have >= 1) && (change5_i_have >= 1)) {\n",
    "                    change10_i_have -= 1;\n",
    "                    change5_i_have -= 1;\n",
    "                    continue;\n",
    "                }\n",
    "                if (change5_i_have >= 3) {\n",
    "                    change5_i_have -= 3;\n",
    "                    continue;\n",
    "                }\n",
    "                return false;\n",
    "                } else if (money_we_return == 1) {\n",
    "                    if(change5_i_have >= 1){\n",
    "                        change5_i_have -= 1;\n",
    "                        change10_i_have += 1;\n",
    "                        continue;\n",
    "                    }\n",
    "                    else{\n",
    "                        return false;\n",
    "                    }\n",
    "                }\n",
    "            }\n",
    "        }\n",
    "        return true;\n",
    "        //2:41\n",
    "    }\n",
    "};\n",
    "```"
   ]
  },
  {
   "cell_type": "code",
   "execution_count": null,
   "id": "allied-credit",
   "metadata": {},
   "outputs": [],
   "source": []
  }
 ],
 "metadata": {
  "kernelspec": {
   "display_name": "C++17",
   "language": "C++17",
   "name": "xcpp17"
  },
  "language_info": {
   "codemirror_mode": "text/x-c++src",
   "file_extension": ".cpp",
   "mimetype": "text/x-c++src",
   "name": "c++",
   "version": "17"
  }
 },
 "nbformat": 4,
 "nbformat_minor": 5
}
