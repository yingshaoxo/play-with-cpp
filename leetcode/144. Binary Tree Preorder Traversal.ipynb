{
 "cells": [
  {
   "cell_type": "markdown",
   "id": "attended-generator",
   "metadata": {},
   "source": [
    "https://leetcode.com/problems/binary-tree-preorder-traversal\n",
    "\n",
    "\n",
    "Runtime: 0 ms, faster than 100.00% of C++ online submissions for Binary Tree Preorder Traversal.\n",
    "Memory Usage: 8.4 MB, less than 70.95% of C++ online submissions for Binary Tree Preorder Traversal.\n",
    "\n",
    "\n",
    "```cpp\n",
    "#include <vector>\n",
    "#include <algorithm>\n",
    "#include <string>\n",
    "\n",
    "using namespace std;\n",
    "\n",
    "class Solution {\n",
    "public:\n",
    "    vector<int> l;\n",
    "\n",
    "    vector<int> preorderTraversal(TreeNode* root) {\n",
    "        l.clear();\n",
    "        travel(root);\n",
    "        return l;\n",
    "    }\n",
    "\n",
    "    void travel(TreeNode* node) {\n",
    "        if (node == nullptr) {\n",
    "            return;\n",
    "        } \n",
    "        l.push_back(node->val);\n",
    "        travel(node->left);\n",
    "        travel(node->right);\n",
    "    }\n",
    "};\n",
    "```"
   ]
  },
  {
   "cell_type": "code",
   "execution_count": null,
   "id": "controversial-distance",
   "metadata": {},
   "outputs": [],
   "source": []
  }
 ],
 "metadata": {
  "kernelspec": {
   "display_name": "C++17",
   "language": "C++17",
   "name": "xcpp17"
  },
  "language_info": {
   "codemirror_mode": "text/x-c++src",
   "file_extension": ".cpp",
   "mimetype": "text/x-c++src",
   "name": "c++",
   "version": "17"
  }
 },
 "nbformat": 4,
 "nbformat_minor": 5
}
