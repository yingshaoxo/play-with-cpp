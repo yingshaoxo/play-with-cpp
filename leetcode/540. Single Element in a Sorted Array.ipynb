{
 "cells": [
  {
   "cell_type": "markdown",
   "id": "serious-graham",
   "metadata": {},
   "source": [
    "https://leetcode.com/problems/single-element-in-a-sorted-array/\n",
    "\n",
    "\n",
    "Runtime: 20 ms, faster than 11.61% of C++ online submissions for Single Element in a Sorted Array.\n",
    "Memory Usage: 10.9 MB, less than 93.74% of C++ online submissions for Single Element in a Sorted Array.\n",
    "\n",
    "\n",
    "```cpp\n",
    "class Solution {\n",
    "public:\n",
    "    int singleNonDuplicate(vector<int>& nums) {\n",
    "        //6:50\n",
    "        if (nums.size() == 1) {\n",
    "            return nums[0];\n",
    "        }\n",
    "        for (int i=0; i < nums.size(); i++) {\n",
    "            if ((i==0) && (i+2 < nums.size())) {\n",
    "                if ((nums[i] != nums[i+1]) && (nums[i+1] == nums[i+2])) {\n",
    "                    return nums[i];\n",
    "                }\n",
    "            }\n",
    "            if ((i-1 >=0) && (i+1 < nums.size())) {\n",
    "                if ((nums[i-1] != nums[i]) && (nums[i] != nums[i+1])) {\n",
    "                    return nums[i];\n",
    "                }\n",
    "            }\n",
    "            if ((i == nums.size()-1) && (i-2>=0)) {\n",
    "                if ((nums[i] != nums[i-1]) && (nums[i-1] == nums[i-2])) {\n",
    "                    return nums[i];\n",
    "                }\n",
    "            }\n",
    "        }\n",
    "        return 0;\n",
    "        //6:57\n",
    "    }\n",
    "};\n",
    "```"
   ]
  }
 ],
 "metadata": {
  "kernelspec": {
   "display_name": "C++17",
   "language": "C++17",
   "name": "xcpp17"
  },
  "language_info": {
   "codemirror_mode": "text/x-c++src",
   "file_extension": ".cpp",
   "mimetype": "text/x-c++src",
   "name": "c++",
   "version": "17"
  }
 },
 "nbformat": 4,
 "nbformat_minor": 5
}
