{
 "cells": [
  {
   "cell_type": "markdown",
   "metadata": {},
   "source": [
    "https://leetcode.com/problems/linked-list-components\n",
    "\n",
    "\n",
    "Runtime: 176 ms, faster than 6.65% of C++ online submissions for Linked List Components.\n",
    "Memory Usage: 23.2 MB, less than 10.25% of C++ online submissions for Linked List Components.\n",
    "\n",
    "\n",
    "```cpp\n",
    "class Solution\n",
    "{\n",
    "public:\n",
    "    int numComponents(ListNode *head, vector<int> &G)\n",
    "    {\n",
    "        //7:00\n",
    "        vector<vector<int>> components{{}};\n",
    "        ListNode *node = head;\n",
    "        while (node != nullptr) {\n",
    "            int val = node->val;\n",
    "            if (find(G.begin(), G.end(), val) != G.end()) {\n",
    "                components[components.size()-1].push_back(val);\n",
    "            } else {\n",
    "                components.push_back({});\n",
    "            }\n",
    "            node = node->next;\n",
    "        }\n",
    "        int counting = 0;\n",
    "        for (int i=0; i < components.size(); i++) {\n",
    "            if (components[i].size()!=0) {\n",
    "                counting += 1;\n",
    "            }\n",
    "        }\n",
    "        return counting;\n",
    "    }\n",
    "};\n",
    "```"
   ]
  },
  {
   "cell_type": "code",
   "execution_count": null,
   "metadata": {},
   "outputs": [],
   "source": []
  }
 ],
 "metadata": {
  "kernelspec": {
   "display_name": "C++17",
   "language": "C++17",
   "name": "xcpp17"
  },
  "language_info": {
   "codemirror_mode": "text/x-c++src",
   "file_extension": ".cpp",
   "mimetype": "text/x-c++src",
   "name": "c++",
   "version": "17"
  }
 },
 "nbformat": 4,
 "nbformat_minor": 4
}
