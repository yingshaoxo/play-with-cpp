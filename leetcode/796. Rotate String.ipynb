{
 "cells": [
  {
   "cell_type": "markdown",
   "metadata": {},
   "source": [
    "https://leetcode.com/problems/rotate-string\n",
    "\n",
    "\n",
    "\n",
    "Runtime: 0 ms, faster than 100.00% of C++ online submissions for Rotate String.\n",
    "Memory Usage: 7.3 MB, less than 8.38% of C++ online submissions for Rotate String.\n",
    "\n",
    "\n",
    "\n",
    "```cpp\n",
    "#include <iostream>\n",
    "\n",
    "using namespace std;\n",
    "\n",
    "class Solution\n",
    "{\n",
    "public:\n",
    "    bool rotateString(string A, string B)\n",
    "    {\n",
    "        if (A.compare(\"\") == 0 && B.compare(\"\") == 0)\n",
    "        {\n",
    "            return true;\n",
    "        }\n",
    "\n",
    "        for (int i = 1; i < A.size(); i++)\n",
    "        {\n",
    "            A = A.substr(1, A.size()) + A.substr(0, 1);\n",
    "            //cout << \"A: \" << A << endl;\n",
    "            if (A.compare(B) == 0)\n",
    "            {\n",
    "                return true;\n",
    "            }\n",
    "        }\n",
    "        return false;\n",
    "    }\n",
    "};\n",
    "\n",
    "int main(int argc, char *argv[])\n",
    "{\n",
    "    auto s = Solution();\n",
    "    auto r = s.rotateString(\"abcd\", \"cdab\");\n",
    "    cout << \"result: \" << r << endl;\n",
    "    return 0;\n",
    "}\n",
    "```\n",
    "\n",
    "\n",
    "Spent 16 minutes\n",
    "\n",
    "2 Shoot"
   ]
  },
  {
   "cell_type": "code",
   "execution_count": null,
   "metadata": {},
   "outputs": [],
   "source": []
  }
 ],
 "metadata": {
  "kernelspec": {
   "display_name": "C++17",
   "language": "C++17",
   "name": "xcpp17"
  },
  "language_info": {
   "name": ""
  }
 },
 "nbformat": 4,
 "nbformat_minor": 4
}
