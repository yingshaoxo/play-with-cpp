{
 "cells": [
  {
   "cell_type": "markdown",
   "id": "fa6c4559-7754-4379-8c68-fc7961f61d1a",
   "metadata": {},
   "source": [
    "https://leetcode.com/problems/find-minimum-in-rotated-sorted-array\n",
    "\n",
    "\n",
    "Runtime: 4 ms, faster than 64.23% of C++ online submissions for Find Minimum in Rotated Sorted Array.\n",
    "Memory Usage: 10.3 MB, less than 21.16% of C++ online submissions for Find Minimum in Rotated Sorted Array.\n",
    "\n",
    "\n",
    "```c++\n",
    "#include <bits/stdc++.h>\n",
    "\n",
    "using namespace std;\n",
    "\n",
    "class Solution {\n",
    "public:\n",
    "    int findMin(vector<int>& nums) {\n",
    "      //7:22\n",
    "      int min_value = nums[0];\n",
    "      for (int i = 1; i < nums.size();i++) {\n",
    "        if (nums[i] < min_value) {\n",
    "          min_value = nums[i];\n",
    "        }\n",
    "      }\n",
    "      return min_value;\n",
    "      //7:23\n",
    "    }\n",
    "};\n",
    "```"
   ]
  },
  {
   "cell_type": "code",
   "execution_count": null,
   "id": "0a687df2-f001-47dc-a531-b2a538971e3f",
   "metadata": {},
   "outputs": [],
   "source": []
  }
 ],
 "metadata": {
  "kernelspec": {
   "display_name": "C++17",
   "language": "C++17",
   "name": "xcpp17"
  },
  "language_info": {
   "name": ""
  }
 },
 "nbformat": 4,
 "nbformat_minor": 5
}
