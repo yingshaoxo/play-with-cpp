{
 "cells": [
  {
   "cell_type": "markdown",
   "id": "liked-found",
   "metadata": {},
   "source": [
    "https://leetcode.com/problems/minimum-distance-between-bst-nodes\n",
    "\n",
    "\n",
    "Runtime: 12 ms, faster than 53.07% of C++ online submissions for Minimum Distance Between BST Nodes.\n",
    "Memory Usage: 15.1 MB, less than 5.04% of C++ online submissions for Minimum Distance Between BST Nodes.\n",
    "\n",
    "\n",
    "```c++\n",
    "class Solution {\n",
    "public:\n",
    "    vector<int> values;\n",
    "    int min_distance;\n",
    "    void travel(TreeNode* node) {\n",
    "        if (node != nullptr) {\n",
    "            int value = node->val;\n",
    "            if (values.size()) {\n",
    "                vector<int> temp_list;\n",
    "                for (auto x : values) {\n",
    "                    temp_list.push_back(abs(x-value));\n",
    "                }\n",
    "                int new_distance = *min_element(temp_list.begin(), temp_list.end());\n",
    "                if (new_distance < min_distance) {\n",
    "                    min_distance = new_distance;\n",
    "                }\n",
    "            }\n",
    "            values.push_back(value);\n",
    "            travel(node->right);\n",
    "            travel(node->left);\n",
    "        }\n",
    "    }\n",
    "    int minDiffInBST(TreeNode* root) {\n",
    "        //8:05\n",
    "        values.clear();\n",
    "        min_distance = INT8_MAX;\n",
    "        travel(root);\n",
    "        return min_distance;\n",
    "        //8:11\n",
    "    }\n",
    "};\n",
    "```"
   ]
  },
  {
   "cell_type": "code",
   "execution_count": null,
   "id": "precious-grove",
   "metadata": {},
   "outputs": [],
   "source": []
  }
 ],
 "metadata": {
  "kernelspec": {
   "display_name": "C++17",
   "language": "C++17",
   "name": "xcpp17"
  },
  "language_info": {
   "codemirror_mode": "text/x-c++src",
   "file_extension": ".cpp",
   "mimetype": "text/x-c++src",
   "name": "c++",
   "version": "17"
  }
 },
 "nbformat": 4,
 "nbformat_minor": 5
}
