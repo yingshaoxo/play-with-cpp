{
 "cells": [
  {
   "cell_type": "markdown",
   "metadata": {},
   "source": [
    "https://leetcode.com/problems/reverse-only-letters\n",
    "\n",
    "\n",
    "Runtime: 0 ms, faster than 100.00% of C++ online submissions for Reverse Only Letters.\n",
    "Memory Usage: 6.4 MB, less than 60.53% of C++ online submissions for Reverse Only Letters.\n",
    "\n",
    "\n",
    "```cpp\n",
    "#include <iostream>\n",
    "#include <vector>\n",
    "#include <math.h>\n",
    "#include <ctype.h>\n",
    "#include <bits/stdc++.h> \n",
    "\n",
    "using namespace std;\n",
    "\n",
    "class Solution {\n",
    "public:\n",
    "    string myReverse(string S) {\n",
    "        string S2 = S; \n",
    "        reverse(S2.begin(), S2.end()); \n",
    "        int length = S.length();\n",
    "        int i1 = 0;\n",
    "        int i2 = 0;\n",
    "        int i2Temp;\n",
    "        string r = \"\";\n",
    "        char e1;\n",
    "        char e2;\n",
    "        while (i1 < length) {\n",
    "            e1 = S[i1];\n",
    "            if (isalpha(e1)) {\n",
    "                i2Temp = i2;\n",
    "                while (i2Temp < length) {\n",
    "                    e2 = S2[i2Temp];\n",
    "                    if (isalpha(e2)) {\n",
    "                        r += e2;\n",
    "                        i2 = i2Temp + 1;\n",
    "                        break;\n",
    "                    }\n",
    "                    i2Temp += 1;\n",
    "                }\n",
    "            } else {\n",
    "                r += e1;\n",
    "            }\n",
    "            i1 += 1;\n",
    "        }\n",
    "        return r;\n",
    "    }\n",
    "\n",
    "    string reverseOnlyLetters(string S) {\n",
    "        return myReverse(S);\n",
    "    }\n",
    "};\n",
    "```"
   ]
  },
  {
   "cell_type": "code",
   "execution_count": null,
   "metadata": {},
   "outputs": [],
   "source": []
  }
 ],
 "metadata": {
  "kernelspec": {
   "display_name": "C++17",
   "language": "C++17",
   "name": "xcpp17"
  },
  "language_info": {
   "codemirror_mode": "text/x-c++src",
   "file_extension": ".cpp",
   "mimetype": "text/x-c++src",
   "name": "c++",
   "version": "17"
  }
 },
 "nbformat": 4,
 "nbformat_minor": 4
}
