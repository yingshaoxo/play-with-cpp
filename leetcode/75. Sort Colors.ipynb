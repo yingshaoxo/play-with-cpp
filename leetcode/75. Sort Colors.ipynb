{
 "cells": [
  {
   "cell_type": "markdown",
   "id": "higher-motorcycle",
   "metadata": {},
   "source": [
    "https://leetcode.com/problems/sort-colors\n",
    "\n",
    "\n",
    "Runtime: 0 ms, faster than 100.00% of C++ online submissions for Sort Colors.\n",
    "Memory Usage: 8.4 MB, less than 49.99% of C++ online submissions for Sort Colors.\n",
    "\n",
    "\n",
    "```cpp\n",
    "#include <algorithm>\n",
    "\n",
    "class Solution {\n",
    "public:\n",
    "    void sortColors(vector<int>& nums) {\n",
    "        sort(nums.begin(), nums.end());\n",
    "    }\n",
    "};\n",
    "```"
   ]
  },
  {
   "cell_type": "code",
   "execution_count": 4,
   "id": "musical-assets",
   "metadata": {},
   "outputs": [
    {
     "name": "stderr",
     "output_type": "stream",
     "text": [
      "input_line_10:2:4: error: expected variable name or 'this' in lambda capture list\n",
      " {[(1,2)]}\n",
      "   ^\n",
      "<<< cling interactive line includer >>>:1:1: error: expected '}'\n",
      "input_line_10:1:42: note: to match this '{'\n",
      "void __cling_Un1Qu35(void* vpClingValue) {\n",
      "                                         ^\n"
     ]
    },
    {
     "ename": "Interpreter Error",
     "evalue": "",
     "output_type": "error",
     "traceback": [
      "Interpreter Error: "
     ]
    }
   ],
   "source": []
  },
  {
   "cell_type": "code",
   "execution_count": null,
   "id": "formal-campbell",
   "metadata": {},
   "outputs": [],
   "source": []
  }
 ],
 "metadata": {
  "kernelspec": {
   "display_name": "C++17",
   "language": "C++17",
   "name": "xcpp17"
  },
  "language_info": {
   "codemirror_mode": "text/x-c++src",
   "file_extension": ".cpp",
   "mimetype": "text/x-c++src",
   "name": "c++",
   "version": "17"
  }
 },
 "nbformat": 4,
 "nbformat_minor": 5
}
