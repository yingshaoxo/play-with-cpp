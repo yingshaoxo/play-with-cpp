{
 "cells": [
  {
   "cell_type": "markdown",
   "id": "geographic-variety",
   "metadata": {},
   "source": [
    "https://leetcode.com/problems/sort-colors\n",
    "\n",
    "\n",
    "Runtime: 0 ms, faster than 100.00% of C++ online submissions for Sort Colors.\n",
    "Memory Usage: 8.4 MB, less than 49.99% of C++ online submissions for Sort Colors.\n",
    "\n",
    "\n",
    "```cpp\n",
    "#include <algorithm>\n",
    "\n",
    "class Solution {\n",
    "public:\n",
    "    void sortColors(vector<int>& nums) {\n",
    "        sort(nums.begin(), nums.end());\n",
    "    }\n",
    "};\n",
    "```"
   ]
  },
  {
   "cell_type": "code",
   "execution_count": null,
   "id": "interesting-pricing",
   "metadata": {},
   "outputs": [],
   "source": []
  }
 ],
 "metadata": {
  "kernelspec": {
   "display_name": "C++17",
   "language": "C++17",
   "name": "xcpp17"
  },
  "language_info": {
   "codemirror_mode": "text/x-c++src",
   "file_extension": ".cpp",
   "mimetype": "text/x-c++src",
   "name": "c++",
   "version": "17"
  }
 },
 "nbformat": 4,
 "nbformat_minor": 5
}
