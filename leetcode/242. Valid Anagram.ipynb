{
 "cells": [
  {
   "cell_type": "markdown",
   "id": "architectural-portfolio",
   "metadata": {},
   "source": [
    "https://leetcode.com/problems/valid-anagram\n",
    "\n",
    "Runtime: 20 ms, faster than 16.04% of C++ online submissions for Valid Anagram.\n",
    "Memory Usage: 7.6 MB, less than 14.93% of C++ online submissions for Valid Anagram.\n",
    "\n",
    "```c++\n",
    "#include<map>\n",
    "\n",
    "class Solution {\n",
    "public:\n",
    "    bool isAnagram(string s, string t) {\n",
    "        //7:43\n",
    "        if (get_map(s) == get_map(t)) {\n",
    "            return true;\n",
    "        } else {\n",
    "            return false;\n",
    "        }\n",
    "        //7:45\n",
    "    }\n",
    "    map<char, int> get_map(string s) {\n",
    "        map<char, int> m;\n",
    "        for (auto c : s) {\n",
    "            if (m.count(c) > 0) {\n",
    "                m[c] += 1;\n",
    "            } else {\n",
    "                m.insert(std::pair<char, int>{c, 1});\n",
    "            }\n",
    "        }\n",
    "        return m;\n",
    "    }\n",
    "};\n",
    "```"
   ]
  },
  {
   "cell_type": "code",
   "execution_count": null,
   "id": "western-announcement",
   "metadata": {},
   "outputs": [],
   "source": []
  }
 ],
 "metadata": {
  "kernelspec": {
   "display_name": "C++17",
   "language": "C++17",
   "name": "xcpp17"
  },
  "language_info": {
   "codemirror_mode": "text/x-c++src",
   "file_extension": ".cpp",
   "mimetype": "text/x-c++src",
   "name": "c++",
   "version": "17"
  }
 },
 "nbformat": 4,
 "nbformat_minor": 5
}
