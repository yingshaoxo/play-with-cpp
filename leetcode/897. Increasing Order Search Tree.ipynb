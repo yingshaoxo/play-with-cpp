{
 "cells": [
  {
   "cell_type": "markdown",
   "id": "intermediate-negotiation",
   "metadata": {},
   "source": [
    "https://leetcode.com/problems/increasing-order-search-tree\n",
    "\n",
    "\n",
    "Runtime: 0 ms, faster than 100.00% of C++ online submissions for Increasing Order Search Tree.\n",
    "Memory Usage: 7.7 MB, less than 70.87% of C++ online submissions for Increasing Order Search Tree.\n",
    "\n",
    "\n",
    "```c++\n",
    "#include <vector>\n",
    "#include <algorithm>\n",
    "#include <iostream>\n",
    "\n",
    "using namespace std;\n",
    " \n",
    "class Solution {\n",
    "public:\n",
    "    vector<int> new_arr;\n",
    "    TreeNode* increasingBST(TreeNode* root) {\n",
    "        //6:16\n",
    "        new_arr.clear();\n",
    "        TreeNode* node;\n",
    "        node = root;\n",
    "        travel(root);\n",
    "        for (int i=0; i<new_arr.size(); i++) {\n",
    "            node->right = new TreeNode{new_arr[i]};\n",
    "            node->left = nullptr;\n",
    "            node = node->right;\n",
    "        }\n",
    "        return root->right;\n",
    "        //6:28\n",
    "    }\n",
    "    void travel(TreeNode* node) {\n",
    "        if (node != nullptr) {\n",
    "            travel(node->left);\n",
    "            new_arr.push_back(node->val);\n",
    "            travel(node->right);\n",
    "        }\n",
    "    }\n",
    "};\n",
    "```"
   ]
  },
  {
   "cell_type": "code",
   "execution_count": null,
   "id": "breeding-potential",
   "metadata": {},
   "outputs": [],
   "source": []
  }
 ],
 "metadata": {
  "kernelspec": {
   "display_name": "C++17",
   "language": "C++17",
   "name": "xcpp17"
  },
  "language_info": {
   "codemirror_mode": "text/x-c++src",
   "file_extension": ".cpp",
   "mimetype": "text/x-c++src",
   "name": "c++",
   "version": "17"
  }
 },
 "nbformat": 4,
 "nbformat_minor": 5
}
