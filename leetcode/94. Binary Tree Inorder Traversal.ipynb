{
 "cells": [
  {
   "cell_type": "markdown",
   "id": "9bdd8c0c-d341-4834-bb35-ef80a3211b27",
   "metadata": {},
   "source": [
    "https://leetcode.com/problems/binary-tree-inorder-traversal\n",
    "\n",
    "\n",
    "\n",
    "Runtime: 4 ms, faster than 48.37% of C++ online submissions for Binary Tree Inorder Traversal.\n",
    "Memory Usage: 8.5 MB, less than 23.77% of C++ online submissions for Binary Tree Inorder Traversal.\n",
    "\n",
    "\n",
    "\n",
    "```cpp\n",
    "class Solution {\n",
    "public:\n",
    "    vector<int> l;\n",
    "\n",
    "    void travel(TreeNode * node) {\n",
    "      if (node != nullptr) {\n",
    "        travel(node->left);\n",
    "        l.push_back(node->val);\n",
    "        travel(node->right);\n",
    "      }\n",
    "    }\n",
    "\n",
    "    vector<int> inorderTraversal(TreeNode* root) {\n",
    "      //7:23\n",
    "      l.clear();\n",
    "      travel(root);\n",
    "      return l;\n",
    "      //7:25\n",
    "    }\n",
    "};\n",
    "```"
   ]
  },
  {
   "cell_type": "code",
   "execution_count": null,
   "id": "5540a527-dee9-43e3-94b8-48fa8ab8d4eb",
   "metadata": {},
   "outputs": [],
   "source": []
  }
 ],
 "metadata": {
  "kernelspec": {
   "display_name": "C++17",
   "language": "C++17",
   "name": "xcpp17"
  },
  "language_info": {
   "name": ""
  }
 },
 "nbformat": 4,
 "nbformat_minor": 5
}
