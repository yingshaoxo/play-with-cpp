{
 "cells": [
  {
   "cell_type": "markdown",
   "id": "speaking-produce",
   "metadata": {},
   "source": [
    "https://leetcode.com/problems/remove-nth-node-from-end-of-list/\n",
    "\n",
    "Runtime: 4 ms, faster than 83.74% of C++ online submissions for Remove Nth Node From End of List.\n",
    "Memory Usage: 10.7 MB, less than 75.53% of C++ online submissions for Remove Nth Node From End of List.\n",
    "\n",
    "```cpp\n",
    "#include <vector>\n",
    "#include <algorithm>\n",
    "\n",
    "using namespace std;\n",
    "\n",
    "\n",
    "class Solution {\n",
    "public:\n",
    "    ListNode* removeNthFromEnd(ListNode* head, int n) {\n",
    "        //7:30\n",
    "        vector<ListNode*> l;\n",
    "        ListNode* node = head;\n",
    "        while (node != nullptr) {\n",
    "            l.push_back(node);\n",
    "            node = node->next;\n",
    "        }\n",
    "        \n",
    "        if (l.size() == 1) {\n",
    "            return nullptr;\n",
    "        } else if (l.size() == 2) {\n",
    "            if (n == 1) {\n",
    "                l[0]->next = nullptr;\n",
    "                return l[0];\n",
    "            } else if (n == 2) {\n",
    "                return l[1];\n",
    "            }\n",
    "        }\n",
    "        \n",
    "        //l.erase(l.end() - n);\n",
    "        int previous = l.size()-n-1;\n",
    "        int next = l.size()-n+1;\n",
    "        if (previous >= 0) {\n",
    "            if (next <= l.size() - 1) {\n",
    "                l[previous]->next = l[next];\n",
    "            } else {\n",
    "                l[previous]->next = nullptr;\n",
    "            }\n",
    "        } else {\n",
    "            return l[1];\n",
    "        }\n",
    "        return l[0];\n",
    "        //7:56\n",
    "    }\n",
    "};\n",
    "```"
   ]
  },
  {
   "cell_type": "code",
   "execution_count": null,
   "id": "dressed-penetration",
   "metadata": {},
   "outputs": [],
   "source": []
  }
 ],
 "metadata": {
  "kernelspec": {
   "display_name": "C++17",
   "language": "C++17",
   "name": "xcpp17"
  },
  "language_info": {
   "codemirror_mode": "text/x-c++src",
   "file_extension": ".cpp",
   "mimetype": "text/x-c++src",
   "name": "c++",
   "version": "17"
  }
 },
 "nbformat": 4,
 "nbformat_minor": 5
}
