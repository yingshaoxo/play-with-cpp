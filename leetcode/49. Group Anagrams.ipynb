{
 "cells": [
  {
   "cell_type": "markdown",
   "id": "substantial-canberra",
   "metadata": {},
   "source": [
    "https://leetcode.com/problems/group-anagrams\n",
    "\n",
    "\n",
    "Runtime: 52 ms, faster than 57.23% of C++ online submissions for Group Anagrams.\n",
    "Memory Usage: 22.8 MB, less than 23.94% of C++ online submissions for Group Anagrams.\n",
    "\n",
    "\n",
    "```cpp\n",
    "#include <vector>\n",
    "#include <algorithm>\n",
    "#include <string>\n",
    "#include <map>\n",
    "#include <vector>\n",
    "\n",
    "using namespace std;\n",
    "\n",
    "class Solution\n",
    "{\n",
    "public:\n",
    "    vector<vector<string>> groupAnagrams(vector<string> &strs)\n",
    "    {\n",
    "        //8:21\n",
    "        map<string, vector<string>> d;\n",
    "        for (const auto &s : strs)\n",
    "        {\n",
    "            vector<char> s_l;\n",
    "            for (const auto &c : s)\n",
    "            {\n",
    "                s_l.push_back(c);\n",
    "            }\n",
    "            sort(s_l.begin(), s_l.end());\n",
    "            string r = \"\";\n",
    "            for (const auto c : s_l)\n",
    "            {\n",
    "                r += c;\n",
    "            }\n",
    "            d[r].push_back(s);\n",
    "        }\n",
    "\n",
    "        vector<vector<string>> results;\n",
    "        for (auto const &imap : d)\n",
    "            results.push_back(imap.second);\n",
    "        return results;\n",
    "        //8:28\n",
    "    }\n",
    "};\n",
    "```"
   ]
  },
  {
   "cell_type": "code",
   "execution_count": null,
   "id": "coupled-smith",
   "metadata": {},
   "outputs": [],
   "source": []
  }
 ],
 "metadata": {
  "kernelspec": {
   "display_name": "C++17",
   "language": "C++17",
   "name": "xcpp17"
  },
  "language_info": {
   "codemirror_mode": "text/x-c++src",
   "file_extension": ".cpp",
   "mimetype": "text/x-c++src",
   "name": "c++",
   "version": "17"
  }
 },
 "nbformat": 4,
 "nbformat_minor": 5
}
