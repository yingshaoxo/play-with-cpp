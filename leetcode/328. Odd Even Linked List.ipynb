{
 "cells": [
  {
   "cell_type": "markdown",
   "id": "binding-cement",
   "metadata": {},
   "source": [
    "https://leetcode.com/problems/odd-even-linked-list/\n",
    "\n",
    "\n",
    "Runtime: 8 ms, faster than 96.95% of C++ online submissions for Odd Even Linked List.\n",
    "Memory Usage: 11.1 MB, less than 18.24% of C++ online submissions for Odd Even Linked List.\n",
    "\n",
    "\n",
    "```cpp\n",
    "class Solution {\n",
    "public:\n",
    "    ListNode* oddEvenList(ListNode* head) {\n",
    "        //11:12\n",
    "        ListNode* node = head;\n",
    "        if (node == nullptr) {\n",
    "            return nullptr;\n",
    "        }\n",
    "        if (node->next == nullptr) {\n",
    "            return node;\n",
    "        }\n",
    "        int i = 0;\n",
    "        ListNode* oddHead = new ListNode();\n",
    "        ListNode* oddNode = oddHead;\n",
    "        ListNode* evenHead = new ListNode();\n",
    "        ListNode* evenNode = evenHead;\n",
    "        while (node != nullptr) {\n",
    "            i += 1;\n",
    "            if (i%2 == 1) {\n",
    "                oddNode->val = node->val;\n",
    "                if ((node->next != nullptr) && (node->next->next != nullptr)) {\n",
    "                    oddNode->next = new ListNode();\n",
    "                    oddNode = oddNode->next;\n",
    "                }\n",
    "            } else {\n",
    "                evenNode->val = node->val;\n",
    "                if ((node->next != nullptr) && (node->next->next != nullptr)) {\n",
    "                    evenNode->next = new ListNode();\n",
    "                    evenNode = evenNode->next;\n",
    "                }\n",
    "            }\n",
    "            node = node->next;\n",
    "        }\n",
    "        oddNode->next = evenHead;\n",
    "        return oddHead;\n",
    "        //11:21\n",
    "    }\n",
    "};\n",
    "```"
   ]
  },
  {
   "cell_type": "markdown",
   "id": "entertaining-circulation",
   "metadata": {},
   "source": [
    "yingshaoxo: remember, whenever you want to create an object and return it as a memory address, you should use the operator `new` to initialize that object."
   ]
  },
  {
   "cell_type": "code",
   "execution_count": null,
   "id": "configured-enlargement",
   "metadata": {},
   "outputs": [],
   "source": []
  }
 ],
 "metadata": {
  "kernelspec": {
   "display_name": "C++17",
   "language": "C++17",
   "name": "xcpp17"
  },
  "language_info": {
   "codemirror_mode": "text/x-c++src",
   "file_extension": ".cpp",
   "mimetype": "text/x-c++src",
   "name": "c++",
   "version": "17"
  }
 },
 "nbformat": 4,
 "nbformat_minor": 5
}
