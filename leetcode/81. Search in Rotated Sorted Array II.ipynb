{
 "cells": [
  {
   "cell_type": "markdown",
   "id": "b02572bd-c7df-4a4a-bb17-cdf82869d065",
   "metadata": {},
   "source": [
    "https://leetcode.com/problems/search-in-rotated-sorted-array-ii\n",
    "\n",
    "\n",
    "Runtime: 4 ms, faster than 91.59% of C++ online submissions for Search in Rotated Sorted Array II.\n",
    "Memory Usage: 13.9 MB, less than 90.40% of C++ online submissions for Search in Rotated Sorted Array II.\n",
    "\n",
    "\n",
    "```c++\n",
    "class Solution {\n",
    "public:\n",
    "    bool search(vector<int>& nums, int target) {\n",
    "        for (auto num : nums) {\n",
    "            if (target == num) {\n",
    "                return true;\n",
    "            }\n",
    "        }\n",
    "        return false;\n",
    "    }\n",
    "};\n",
    "```"
   ]
  },
  {
   "cell_type": "code",
   "execution_count": null,
   "id": "b206cca8-a123-4681-b2ca-2e7de1881520",
   "metadata": {},
   "outputs": [],
   "source": []
  }
 ],
 "metadata": {
  "kernelspec": {
   "display_name": "C++17",
   "language": "C++17",
   "name": "xcpp17"
  },
  "language_info": {
   "name": ""
  }
 },
 "nbformat": 4,
 "nbformat_minor": 5
}
