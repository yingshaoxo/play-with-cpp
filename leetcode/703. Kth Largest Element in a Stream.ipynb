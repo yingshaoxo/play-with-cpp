{
 "cells": [
  {
   "cell_type": "markdown",
   "metadata": {},
   "source": [
    "https://leetcode.com/problems/kth-largest-element-in-a-stream\n",
    "\n",
    "\n",
    "\n",
    "Time Limit Exceeded\n",
    "\n",
    "\n",
    "\n",
    "```cpp\n",
    "#include <iostream>\n",
    "#include <bits/stdc++.h>\n",
    "\n",
    "using namespace std;\n",
    "\n",
    "class KthLargest {\n",
    "public:\n",
    "    vector<int> stream;\n",
    "    int k;\n",
    "\n",
    "    KthLargest(int k, vector<int>& nums) {\n",
    "        this->stream = nums;\n",
    "        this->k = k-1;\n",
    "    }\n",
    "    \n",
    "    int add(int val) {\n",
    "        this->stream.push_back(val);\n",
    "        sort(this->stream.begin(), this->stream.end(), std::greater<>());\n",
    "        return this->stream[this->k];\n",
    "    }\n",
    "};\n",
    "```"
   ]
  }
 ],
 "metadata": {
  "kernelspec": {
   "display_name": "C++17",
   "language": "C++17",
   "name": "xcpp17"
  },
  "language_info": {
   "codemirror_mode": "text/x-c++src",
   "file_extension": ".cpp",
   "mimetype": "text/x-c++src",
   "name": "c++",
   "version": "17"
  }
 },
 "nbformat": 4,
 "nbformat_minor": 4
}
