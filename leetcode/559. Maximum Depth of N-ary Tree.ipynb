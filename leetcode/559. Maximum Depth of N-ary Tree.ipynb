{
 "cells": [
  {
   "cell_type": "markdown",
   "metadata": {},
   "source": [
    "https://leetcode.com/problems/maximum-depth-of-n-ary-tree\n",
    "\n",
    "\n",
    "Runtime: 16 ms, faster than 91.71% of C++ online submissions for Maximum Depth of N-ary Tree.\n",
    "Memory Usage: 10.7 MB, less than 92.68% of C++ online submissions for Maximum Depth of N-ary Tree.\n",
    "\n",
    "\n",
    "```cpp\n",
    "class Solution {\n",
    "public:\n",
    "    int maxLevel;\n",
    "    int maxDejpth(Node* root) {\n",
    "        if (root == nullptr) {\n",
    "            return 0;\n",
    "        }\n",
    "        //6:25\n",
    "        maxLevel = 1;\n",
    "        travel(root, maxLevel);\n",
    "        return maxLevel;\n",
    "        //6:28\n",
    "    }\n",
    "    void travel(Node* node, int level) {\n",
    "        if (node != nullptr) {\n",
    "            if (level > maxLevel) {\n",
    "                maxLevel = level;\n",
    "            }\n",
    "            for (int i=0; i<node->children.size(); i++) {\n",
    "                travel(node->children[i], level+1);\n",
    "            }\n",
    "        }\n",
    "    }\n",
    "};\n",
    "```"
   ]
  }
 ],
 "metadata": {
  "kernelspec": {
   "display_name": "C++17",
   "language": "C++17",
   "name": "xcpp17"
  },
  "language_info": {
   "codemirror_mode": "text/x-c++src",
   "file_extension": ".cpp",
   "mimetype": "text/x-c++src",
   "name": "c++",
   "version": "17"
  }
 },
 "nbformat": 4,
 "nbformat_minor": 4
}
