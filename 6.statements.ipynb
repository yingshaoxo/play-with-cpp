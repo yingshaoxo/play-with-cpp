{
 "cells": [
  {
   "cell_type": "markdown",
   "metadata": {},
   "source": [
    "## Functions"
   ]
  },
  {
   "cell_type": "markdown",
   "metadata": {},
   "source": [
    "### general"
   ]
  },
  {
   "cell_type": "code",
   "execution_count": 1,
   "metadata": {},
   "outputs": [],
   "source": [
    "void change(int& x) {\n",
    "    x = x + 1;\n",
    "}"
   ]
  },
  {
   "cell_type": "code",
   "execution_count": 2,
   "metadata": {},
   "outputs": [
    {
     "data": {
      "text/plain": [
       "1"
      ]
     },
     "execution_count": 2,
     "metadata": {},
     "output_type": "execute_result"
    }
   ],
   "source": [
    "int a = 0;\n",
    "change(a);\n",
    "a"
   ]
  },
  {
   "cell_type": "markdown",
   "metadata": {},
   "source": [
    "### not in general"
   ]
  },
  {
   "cell_type": "code",
   "execution_count": 3,
   "metadata": {},
   "outputs": [],
   "source": [
    "struct CountDown {\n",
    "    CountDown(int num): number{num} {}\n",
    "    void next();\n",
    "    int number;\n",
    "}"
   ]
  },
  {
   "cell_type": "code",
   "execution_count": 4,
   "metadata": {},
   "outputs": [],
   "source": [
    "void CountDown::next() {\n",
    "    this->number = this->number - 1;\n",
    "}"
   ]
  },
  {
   "cell_type": "code",
   "execution_count": 5,
   "metadata": {},
   "outputs": [
    {
     "data": {
      "text/plain": [
       "4"
      ]
     },
     "execution_count": 5,
     "metadata": {},
     "output_type": "execute_result"
    }
   ],
   "source": [
    "CountDown counter = CountDown(5);\n",
    "counter.next();\n",
    "counter.number"
   ]
  },
  {
   "cell_type": "code",
   "execution_count": 6,
   "metadata": {},
   "outputs": [
    {
     "data": {
      "text/plain": [
       "3"
      ]
     },
     "execution_count": 6,
     "metadata": {},
     "output_type": "execute_result"
    }
   ],
   "source": [
    "counter.next();\n",
    "counter.number"
   ]
  },
  {
   "cell_type": "markdown",
   "metadata": {},
   "source": [
    "## Namespaces"
   ]
  },
  {
   "cell_type": "code",
   "execution_count": 8,
   "metadata": {},
   "outputs": [],
   "source": [
    "#include <cstdio>\n",
    "\n",
    "namespace A_Space::Sub_Space {\n",
    "    enum class Color {\n",
    "        red=1,\n",
    "        green=2,\n",
    "        blue=3\n",
    "    };\n",
    "    struct A_Class {\n",
    "        int number = 1998;\n",
    "    };\n",
    "}\n",
    "\n",
    "namespace B_Space {\n",
    "    struct A_Class {\n",
    "        int number = 1998;\n",
    "    };\n",
    "}"
   ]
  },
  {
   "cell_type": "code",
   "execution_count": 9,
   "metadata": {},
   "outputs": [
    {
     "name": "stdout",
     "output_type": "stream",
     "text": [
      "we just used a color from a namespace."
     ]
    }
   ],
   "source": [
    "auto a_color = A_Space::Sub_Space::Color::red;\n",
    "\n",
    "if (a_color == A_Space::Sub_Space::Color::red) {\n",
    "    printf(\"we just used a color from a namespace.\");\n",
    "}"
   ]
  },
  {
   "cell_type": "code",
   "execution_count": 10,
   "metadata": {},
   "outputs": [
    {
     "name": "stdout",
     "output_type": "stream",
     "text": [
      "we just did an comparation with two variables that comes from different namespaces."
     ]
    }
   ],
   "source": [
    "auto a = A_Space::Sub_Space::A_Class().number;\n",
    "auto b = B_Space::A_Class().number;\n",
    "\n",
    "if (a == b) {\n",
    "    printf(\"we just did an comparation with two variables that comes from different namespaces.\");\n",
    "}"
   ]
  },
  {
   "cell_type": "code",
   "execution_count": null,
   "metadata": {},
   "outputs": [],
   "source": []
  }
 ],
 "metadata": {
  "kernelspec": {
   "display_name": "C++17",
   "language": "C++17",
   "name": "xcpp17"
  },
  "language_info": {
   "codemirror_mode": "text/x-c++src",
   "file_extension": ".cpp",
   "mimetype": "text/x-c++src",
   "name": "c++",
   "version": "17"
  }
 },
 "nbformat": 4,
 "nbformat_minor": 4
}
