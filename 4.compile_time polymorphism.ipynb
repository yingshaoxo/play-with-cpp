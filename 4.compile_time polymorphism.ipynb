{
 "cells": [
  {
   "cell_type": "markdown",
   "metadata": {},
   "source": [
    "## template"
   ]
  },
  {
   "cell_type": "markdown",
   "metadata": {},
   "source": [
    "What is template? I don't know.\n",
    "\n",
    "Why we have to use it? I don't know."
   ]
  },
  {
   "cell_type": "code",
   "execution_count": 1,
   "metadata": {},
   "outputs": [],
   "source": [
    "template <typename X, typename Y, typename Z>\n",
    "struct MyTemplateClass {\n",
    "    public:\n",
    "        X foo(Y&);\n",
    "    private:\n",
    "        Z* member;\n",
    "};"
   ]
  },
  {
   "cell_type": "code",
   "execution_count": 2,
   "metadata": {},
   "outputs": [],
   "source": [
    "template <typename X, typename Y, typename Z>\n",
    "X my_template_function(Y& arg1, const Z* arg2) {\n",
    "}"
   ]
  },
  {
   "cell_type": "markdown",
   "metadata": {},
   "source": [
    "## Named Conversion Functions (Type conversion functions)"
   ]
  },
  {
   "cell_type": "markdown",
   "metadata": {},
   "source": [
    "Similar to `int(3.34)` in Python.\n",
    "\n",
    "But it's more complex."
   ]
  },
  {
   "cell_type": "markdown",
   "metadata": {},
   "source": [
    "### const_cast"
   ]
  },
  {
   "cell_type": "markdown",
   "metadata": {},
   "source": [
    "**Do not use it! It's a fucking stupid feature!**"
   ]
  },
  {
   "cell_type": "code",
   "execution_count": 3,
   "metadata": {},
   "outputs": [],
   "source": [
    "#include <cstdio>\n",
    "void no_const_function(const int& a_number) {\n",
    "    //a_number++; //compiler raise an error\n",
    "    auto& new_number = const_cast<int&>(a_number);\n",
    "    new_number++;\n",
    "    printf(\"%d\\n\", a_number);\n",
    "    printf(\"%d\\n\", new_number);\n",
    "}"
   ]
  },
  {
   "cell_type": "code",
   "execution_count": 4,
   "metadata": {},
   "outputs": [
    {
     "name": "stdout",
     "output_type": "stream",
     "text": [
      "23\n",
      "23\n"
     ]
    }
   ],
   "source": [
    "no_const_function(22)"
   ]
  },
  {
   "cell_type": "markdown",
   "metadata": {},
   "source": [
    "What is 'cast'?\n",
    "\n",
    "Did you know a word called 'cast away'? Yes, throw away something. Here it means to get rid of some part of a type."
   ]
  },
  {
   "cell_type": "markdown",
   "metadata": {},
   "source": [
    "### static_cast"
   ]
  },
  {
   "cell_type": "markdown",
   "metadata": {},
   "source": [
    "This is more like `int(3.34)` in Python."
   ]
  },
  {
   "cell_type": "code",
   "execution_count": 5,
   "metadata": {},
   "outputs": [
    {
     "name": "stdout",
     "output_type": "stream",
     "text": [
      "666 is the mark_of_the_beast."
     ]
    }
   ],
   "source": [
    "#include <cstdio>\n",
    "\n",
    "short increment_as_short(void* target) {\n",
    "    auto as_short = static_cast<short*>(target);\n",
    "    *as_short = *as_short + 1;\n",
    "    return *as_short;\n",
    "}\n",
    "\n",
    "short beast{ 665 };\n",
    "auto mark_of_the_beast = increment_as_short(&beast);\n",
    "printf(\"%d is the mark_of_the_beast.\", mark_of_the_beast);"
   ]
  },
  {
   "cell_type": "code",
   "execution_count": null,
   "metadata": {},
   "outputs": [],
   "source": []
  },
  {
   "cell_type": "code",
   "execution_count": null,
   "metadata": {},
   "outputs": [],
   "source": []
  },
  {
   "cell_type": "code",
   "execution_count": null,
   "metadata": {},
   "outputs": [],
   "source": [
    "int b = a;"
   ]
  }
 ],
 "metadata": {
  "kernelspec": {
   "display_name": "C++17",
   "language": "C++17",
   "name": "xcpp17"
  },
  "language_info": {
   "codemirror_mode": "text/x-c++src",
   "file_extension": ".cpp",
   "mimetype": "text/x-c++src",
   "name": "c++",
   "version": "17"
  }
 },
 "nbformat": 4,
 "nbformat_minor": 2
}
